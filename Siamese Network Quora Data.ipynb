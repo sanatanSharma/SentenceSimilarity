{
 "cells": [
  {
   "cell_type": "code",
   "execution_count": 1,
   "metadata": {
    "collapsed": false
   },
   "outputs": [
    {
     "name": "stderr",
     "output_type": "stream",
     "text": [
      "Using TensorFlow backend.\n"
     ]
    }
   ],
   "source": [
    "import numpy as np\n",
    "import pandas as pd\n",
    "import keras\n",
    "from keras.models import Sequential, Model\n",
    "from keras.layers import Dense, Dropout, Input, Lambda,GRU,Embedding\n",
    "from keras.optimizers import RMSprop\n",
    "from keras.utils.np_utils import to_categorical\n",
    "from keras import backend as K\n",
    "from keras.layers import Merge\n",
    "import cPickle as pickle\n",
    "import numpy"
   ]
  },
  {
   "cell_type": "code",
   "execution_count": 2,
   "metadata": {
    "collapsed": false
   },
   "outputs": [],
   "source": [
    "f = open(\"quora_all_data\", \"r\")\n",
    "sequences1 = pickle.load(f)\n",
    "sequences2 = pickle.load(f)\n",
    "y = pickle.load(f)\n",
    "embedding_matrix = pickle.load(f)\n",
    "f.close()"
   ]
  },
  {
   "cell_type": "code",
   "execution_count": 3,
   "metadata": {
    "collapsed": false
   },
   "outputs": [],
   "source": [
    "y = y.tolist()"
   ]
  },
  {
   "cell_type": "code",
   "execution_count": 4,
   "metadata": {
    "collapsed": true
   },
   "outputs": [],
   "source": [
    "from keras.preprocessing.sequence import pad_sequences"
   ]
  },
  {
   "cell_type": "code",
   "execution_count": 5,
   "metadata": {
    "collapsed": true
   },
   "outputs": [],
   "source": [
    "sequences1 = pad_sequences(sequences1, maxlen=50)\n",
    "sequences2 = pad_sequences(sequences2, maxlen=50)"
   ]
  },
  {
   "cell_type": "code",
   "execution_count": 6,
   "metadata": {
    "collapsed": false
   },
   "outputs": [],
   "source": [
    "X_train = [sequences1[0:int(0.8*len(sequences1))], sequences2[0:int(0.8*len(sequences2))]]\n",
    "y_train = y[0:int(0.8*len(sequences1))]\n",
    "X_val = [sequences1[int(0.8*len(sequences1)):int(0.9*len(sequences1))], sequences2[int(0.8*len(sequences1)):int(0.9*len(sequences1))]]\n",
    "y_val = y[int(0.8*len(sequences1)):int(0.9*len(sequences1))]\n",
    "X_test = [sequences1[int(0.9*len(sequences1)):], sequences2[int(0.9*len(sequences1)):]]\n",
    "y_test = y[int(0.9*len(sequences1)):]"
   ]
  },
  {
   "cell_type": "code",
   "execution_count": 7,
   "metadata": {
    "collapsed": false
   },
   "outputs": [],
   "source": [
    "input_dim = embedding_matrix.shape[0]\n",
    "output_dim = embedding_matrix.shape[1]"
   ]
  },
  {
   "cell_type": "code",
   "execution_count": 32,
   "metadata": {
    "collapsed": false
   },
   "outputs": [],
   "source": [
    "model = Sequential()\n",
    "model.add(Embedding(input_dim,output_dim,input_length=50, mask_zero=False,trainable=False,weights=[embedding_matrix], name='embed'))\n",
    "model.add(GRU(units=128, kernel_initializer='he_normal', name='rnn',  return_sequences = False))\n",
    "model.add(Dropout(0.5))"
   ]
  },
  {
   "cell_type": "code",
   "execution_count": 33,
   "metadata": {
    "collapsed": false,
    "scrolled": true
   },
   "outputs": [
    {
     "data": {
      "text/plain": [
       "(None, 50, 300)"
      ]
     },
     "execution_count": 33,
     "metadata": {},
     "output_type": "execute_result"
    }
   ],
   "source": [
    "model.get_layer('rnn').input_shape"
   ]
  },
  {
   "cell_type": "code",
   "execution_count": 34,
   "metadata": {
    "collapsed": false
   },
   "outputs": [],
   "source": [
    "X_train = numpy.array(X_train)\n",
    "y_train = numpy.array(y_train)\n",
    "X_val = numpy.array(X_val)\n",
    "y_val = numpy.array(y_val)\n",
    "X_test = numpy.array(X_test)\n",
    "y_test = numpy.array(y_test)"
   ]
  },
  {
   "cell_type": "code",
   "execution_count": 35,
   "metadata": {
    "collapsed": false
   },
   "outputs": [],
   "source": [
    "input_a = Input(shape = (X_train[0].shape[1],))\n",
    "input_b = Input(shape = (X_train[1].shape[1],))"
   ]
  },
  {
   "cell_type": "code",
   "execution_count": 36,
   "metadata": {
    "collapsed": false
   },
   "outputs": [],
   "source": [
    "processed_a = model(input_a)\n",
    "processed_b = model(input_b)"
   ]
  },
  {
   "cell_type": "code",
   "execution_count": null,
   "metadata": {
    "collapsed": true
   },
   "outputs": [],
   "source": []
  },
  {
   "cell_type": "code",
   "execution_count": 37,
   "metadata": {
    "collapsed": false
   },
   "outputs": [],
   "source": [
    "similarity = Lambda(lambda x: ((x[0]-x[1])*(x[0]-x[1])), output_shape=[128])([processed_a, processed_b])"
   ]
  },
  {
   "cell_type": "code",
   "execution_count": 38,
   "metadata": {
    "collapsed": false
   },
   "outputs": [
    {
     "data": {
      "text/plain": [
       "TensorShape([Dimension(None), Dimension(128)])"
      ]
     },
     "execution_count": 38,
     "metadata": {},
     "output_type": "execute_result"
    }
   ],
   "source": [
    "similarity.shape"
   ]
  },
  {
   "cell_type": "code",
   "execution_count": 39,
   "metadata": {
    "collapsed": false
   },
   "outputs": [],
   "source": [
    "predictions = Dense(1,activation='sigmoid', name = 'last_dense')(similarity)\n",
    "main_model = Model([input_a, input_b], predictions)"
   ]
  },
  {
   "cell_type": "code",
   "execution_count": 40,
   "metadata": {
    "collapsed": false
   },
   "outputs": [
    {
     "data": {
      "text/plain": [
       "(None, 50)"
      ]
     },
     "execution_count": 40,
     "metadata": {},
     "output_type": "execute_result"
    }
   ],
   "source": [
    "model.input_shape"
   ]
  },
  {
   "cell_type": "code",
   "execution_count": 41,
   "metadata": {
    "collapsed": true
   },
   "outputs": [],
   "source": [
    "rms = RMSprop()\n",
    "main_model.compile(loss='binary_crossentropy', optimizer=rms, metrics=['accuracy'])"
   ]
  },
  {
   "cell_type": "code",
   "execution_count": 42,
   "metadata": {
    "collapsed": true
   },
   "outputs": [],
   "source": [
    "filepath='weights-improvement-{epoch:02d}-{val_acc:.2f}.hdf5'\n",
    "checkpoint = keras.callbacks.ModelCheckpoint(filepath, monitor='val_acc', verbose=1, save_weights_only=True, mode='max')\n",
    "earlystop = keras.callbacks.EarlyStopping(monitor='val_acc', min_delta=0, patience=2, verbose=1, mode='auto')"
   ]
  },
  {
   "cell_type": "code",
   "execution_count": 43,
   "metadata": {
    "collapsed": true
   },
   "outputs": [],
   "source": [
    "class LossHistory(keras.callbacks.Callback):\n",
    "    def on_train_begin(self, logs={}):\n",
    "        self.history = {'loss':[], 'acc':[], 'val_loss':[], 'val_acc':[]}\n",
    "\n",
    "    def on_batch_end(self, batch, logs={}):\n",
    "        self.history['loss'].append(logs.get('loss'))\n",
    "        self.history['acc'].append(logs.get('acc'))\n",
    "    \n",
    "    def on_epoch_end(self, batch, logs={}):\n",
    "        self.history['val_loss'].append(logs.get('val_loss'))\n",
    "        self.history['val_acc'].append(logs.get('val_acc'))"
   ]
  },
  {
   "cell_type": "code",
   "execution_count": 44,
   "metadata": {
    "collapsed": true
   },
   "outputs": [],
   "source": [
    "history = LossHistory()"
   ]
  },
  {
   "cell_type": "code",
   "execution_count": 45,
   "metadata": {
    "collapsed": true
   },
   "outputs": [],
   "source": [
    "callbacks_list = [checkpoint, history, earlystop]"
   ]
  },
  {
   "cell_type": "code",
   "execution_count": 46,
   "metadata": {
    "collapsed": false,
    "scrolled": true
   },
   "outputs": [
    {
     "name": "stdout",
     "output_type": "stream",
     "text": [
      "Train on 239415 samples, validate on 29927 samples\n",
      "Epoch 1/10\n",
      "239360/239415 [============================>.] - ETA: 0s - loss: 0.5377 - acc: 0.7260Epoch 00000: saving model to weights-improvement-00-0.70.hdf5\n",
      "239415/239415 [==============================] - 1668s - loss: 0.5377 - acc: 0.7260 - val_loss: 0.5689 - val_acc: 0.7038\n",
      "Epoch 2/10\n",
      "239360/239415 [============================>.] - ETA: 0s - loss: 0.4852 - acc: 0.7626Epoch 00001: saving model to weights-improvement-01-0.73.hdf5\n",
      "239415/239415 [==============================] - 1597s - loss: 0.4852 - acc: 0.7627 - val_loss: 0.5634 - val_acc: 0.7315\n",
      "Epoch 3/10\n",
      "239360/239415 [============================>.] - ETA: 0s - loss: 0.4599 - acc: 0.7776Epoch 00002: saving model to weights-improvement-02-0.74.hdf5\n",
      "239415/239415 [==============================] - 1597s - loss: 0.4599 - acc: 0.7776 - val_loss: 0.5594 - val_acc: 0.7366\n",
      "Epoch 4/10\n",
      "239360/239415 [============================>.] - ETA: 0s - loss: 0.4405 - acc: 0.7891Epoch 00003: saving model to weights-improvement-03-0.72.hdf5\n",
      "239415/239415 [==============================] - 1599s - loss: 0.4405 - acc: 0.7891 - val_loss: 0.5698 - val_acc: 0.7159\n",
      "Epoch 5/10\n",
      "239360/239415 [============================>.] - ETA: 0s - loss: 0.4269 - acc: 0.7974Epoch 00004: saving model to weights-improvement-04-0.68.hdf5\n",
      "239415/239415 [==============================] - 1597s - loss: 0.4269 - acc: 0.7973 - val_loss: 0.5941 - val_acc: 0.6805\n",
      "Epoch 6/10\n",
      "239360/239415 [============================>.] - ETA: 0s - loss: 0.4086 - acc: 0.8069Epoch 00005: saving model to weights-improvement-05-0.64.hdf5\n",
      "239415/239415 [==============================] - 1605s - loss: 0.4086 - acc: 0.8069 - val_loss: 0.6304 - val_acc: 0.6411\n",
      "Epoch 00005: early stopping\n"
     ]
    },
    {
     "data": {
      "text/plain": [
       "<keras.callbacks.History at 0x7fe791845690>"
      ]
     },
     "execution_count": 46,
     "metadata": {},
     "output_type": "execute_result"
    }
   ],
   "source": [
    "main_model.fit([X_train[0],X_train[1]],y_train, epochs=10, batch_size=128,verbose=1,\n",
    "               callbacks=callbacks_list, shuffle=True,validation_data=([X_val[0],X_val[1]],y_val))"
   ]
  },
  {
   "cell_type": "code",
   "execution_count": 47,
   "metadata": {
    "collapsed": false,
    "scrolled": true
   },
   "outputs": [
    {
     "data": {
      "text/plain": [
       "11226"
      ]
     },
     "execution_count": 47,
     "metadata": {},
     "output_type": "execute_result"
    }
   ],
   "source": [
    "len(history.history['loss'])"
   ]
  },
  {
   "cell_type": "code",
   "execution_count": 54,
   "metadata": {
    "collapsed": false
   },
   "outputs": [
    {
     "data": {
      "image/png": "[encoded data removed]",
      "text/plain": [
       "<matplotlib.figure.Figure at 0x7fe78eaa1cd0>"
      ]
     },
     "metadata": {},
     "output_type": "display_data"
    }
   ],
   "source": [
    "import matplotlib.pyplot as plt\n",
    "# plt.plot(history.history['acc'])\n",
    "# plt.plot(history.history['val_acc'])\n",
    "# plt.title('model accuracy')\n",
    "# plt.ylabel('accuracy')\n",
    "# plt.xlabel('epoch')\n",
    "# plt.legend(['train', 'val'], loc='upper left')\n",
    "# plt.show()\n",
    "# summarize history for loss\n",
    "plt.plot(history.history['loss'])\n",
    "plt.title('Model Loss')\n",
    "plt.ylabel('loss')\n",
    "plt.xlabel('batches')\n",
    "plt.legend(['train'], loc='upper left')\n",
    "plt.show()"
   ]
  },
  {
   "cell_type": "code",
   "execution_count": 74,
   "metadata": {
    "collapsed": false
   },
   "outputs": [
    {
     "data": {
      "image/png": "[encoded data removed]",
      "text/plain": [
       "<matplotlib.figure.Figure at 0x7fe78e931350>"
      ]
     },
     "metadata": {},
     "output_type": "display_data"
    }
   ],
   "source": [
    "plt.plot(history.history['acc'])\n",
    "plt.title('Model Accuracy')\n",
    "plt.ylabel('acc')\n",
    "plt.xlabel('batches')\n",
    "plt.legend(['train'], loc='upper left')\n",
    "plt.show()"
   ]
  },
  {
   "cell_type": "code",
   "execution_count": 73,
   "metadata": {
    "collapsed": false
   },
   "outputs": [
    {
     "name": "stdout",
     "output_type": "stream",
     "text": [
      "225\n"
     ]
    },
    {
     "data": {
      "image/png": "[encoded data removed]",
      "text/plain": [
       "<matplotlib.figure.Figure at 0x7fe78e63ab50>"
      ]
     },
     "metadata": {},
     "output_type": "display_data"
    },
    {
     "data": {
      "image/png": "[encoded data removed]",
      "text/plain": [
       "<matplotlib.figure.Figure at 0x7fe78e395b50>"
      ]
     },
     "metadata": {},
     "output_type": "display_data"
    }
   ],
   "source": [
    "loss2 = history.history['loss'][0::50]\n",
    "acc2 = history.history['acc'][0::50]\n",
    "print len(loss2)\n",
    "plt.plot(loss2)\n",
    "plt.title('Model Loss every 50 batches')\n",
    "plt.ylabel('loss')\n",
    "plt.xlabel('batches')\n",
    "plt.legend(['train'], loc='upper left')\n",
    "plt.show()\n",
    "plt.plot(acc2)\n",
    "plt.title('Model Accuracy every 50 batches')\n",
    "plt.ylabel('acc')\n",
    "plt.xlabel('batches')\n",
    "plt.legend(['train'], loc='upper left')\n",
    "plt.show()"
   ]
  },
  {
   "cell_type": "code",
   "execution_count": 72,
   "metadata": {
    "collapsed": false
   },
   "outputs": [
    {
     "name": "stdout",
     "output_type": "stream",
     "text": [
      "6\n",
      "6\n"
     ]
    },
    {
     "data": {
      "image/png": "[encoded data removed]",
      "text/plain": [
       "<matplotlib.figure.Figure at 0x7fe78ee20050>"
      ]
     },
     "metadata": {},
     "output_type": "display_data"
    },
    {
     "data": {
      "image/png": "[encoded data removed]",
      "text/plain": [
       "<matplotlib.figure.Figure at 0x7fe78e462350>"
      ]
     },
     "metadata": {},
     "output_type": "display_data"
    }
   ],
   "source": [
    "loss3 = [0.5377, 0.4852, 0.4599, 0.4405, 0.4269, 0.4086]\n",
    "acc3 = [0.7260, 0.7626, 0.7776, 0.7891, 0.7974, 0.8069 ]\n",
    "\n",
    "plt.plot(loss3)\n",
    "plt.plot(history.history['val_loss'])\n",
    "plt.title('Model Loss every epoch')\n",
    "plt.ylabel('loss')\n",
    "plt.xlabel('epoch')\n",
    "plt.legend(['train'], loc='upper left')\n",
    "plt.show()\n",
    "plt.plot(acc3)\n",
    "plt.plot(history.history['val_acc'])\n",
    "plt.title('Model Accuracy every epoch')\n",
    "plt.ylabel('acc')\n",
    "plt.xlabel('epoch')\n",
    "plt.legend(['train'], loc='upper left')\n",
    "plt.show()"
   ]
  },
  {
   "cell_type": "code",
   "execution_count": 52,
   "metadata": {
    "collapsed": false,
    "scrolled": true
   },
   "outputs": [
    {
     "data": {
      "image/svg+xml": [
       "<svg height=\"304pt\" viewBox=\"0.00 0.00 538.00 304.00\" width=\"538pt\" xmlns=\"http://www.w3.org/2000/svg\" xmlns:xlink=\"http://www.w3.org/1999/xlink\">\n",
       "<g class=\"graph\" id=\"graph0\" transform=\"scale(1 1) rotate(0) translate(4 300)\">\n",
       "<title>G</title>\n",
       "<polygon fill=\"white\" points=\"-4,4 -4,-300 534,-300 534,4 -4,4\" stroke=\"none\"/>\n",
       "<!-- 140634080166928 -->\n",
       "<g class=\"node\" id=\"node1\"><title>140634080166928</title>\n",
       "<polygon fill=\"none\" points=\"0,-249.5 0,-295.5 256,-295.5 256,-249.5 0,-249.5\" stroke=\"black\"/>\n",
       "<text font-family=\"Times,serif\" font-size=\"14.00\" text-anchor=\"middle\" x=\"62.5\" y=\"-268.8\">input_3: InputLayer</text>\n",
       "<polyline fill=\"none\" points=\"125,-249.5 125,-295.5 \" stroke=\"black\"/>\n",
       "<text font-family=\"Times,serif\" font-size=\"14.00\" text-anchor=\"middle\" x=\"152.5\" y=\"-280.3\">input:</text>\n",
       "<polyline fill=\"none\" points=\"125,-272.5 180,-272.5 \" stroke=\"black\"/>\n",
       "<text font-family=\"Times,serif\" font-size=\"14.00\" text-anchor=\"middle\" x=\"152.5\" y=\"-257.3\">output:</text>\n",
       "<polyline fill=\"none\" points=\"180,-249.5 180,-295.5 \" stroke=\"black\"/>\n",
       "<text font-family=\"Times,serif\" font-size=\"14.00\" text-anchor=\"middle\" x=\"218\" y=\"-280.3\">(None, 50)</text>\n",
       "<polyline fill=\"none\" points=\"180,-272.5 256,-272.5 \" stroke=\"black\"/>\n",
       "<text font-family=\"Times,serif\" font-size=\"14.00\" text-anchor=\"middle\" x=\"218\" y=\"-257.3\">(None, 50)</text>\n",
       "</g>\n",
       "<!-- 140634080120400 -->\n",
       "<g class=\"node\" id=\"node3\"><title>140634080120400</title>\n",
       "<polygon fill=\"none\" points=\"121.5,-166.5 121.5,-212.5 408.5,-212.5 408.5,-166.5 121.5,-166.5\" stroke=\"black\"/>\n",
       "<text font-family=\"Times,serif\" font-size=\"14.00\" text-anchor=\"middle\" x=\"196\" y=\"-185.8\">sequential_2: Sequential</text>\n",
       "<polyline fill=\"none\" points=\"270.5,-166.5 270.5,-212.5 \" stroke=\"black\"/>\n",
       "<text font-family=\"Times,serif\" font-size=\"14.00\" text-anchor=\"middle\" x=\"298\" y=\"-197.3\">input:</text>\n",
       "<polyline fill=\"none\" points=\"270.5,-189.5 325.5,-189.5 \" stroke=\"black\"/>\n",
       "<text font-family=\"Times,serif\" font-size=\"14.00\" text-anchor=\"middle\" x=\"298\" y=\"-174.3\">output:</text>\n",
       "<polyline fill=\"none\" points=\"325.5,-166.5 325.5,-212.5 \" stroke=\"black\"/>\n",
       "<text font-family=\"Times,serif\" font-size=\"14.00\" text-anchor=\"middle\" x=\"367\" y=\"-197.3\">(None, 50)</text>\n",
       "<polyline fill=\"none\" points=\"325.5,-189.5 408.5,-189.5 \" stroke=\"black\"/>\n",
       "<text font-family=\"Times,serif\" font-size=\"14.00\" text-anchor=\"middle\" x=\"367\" y=\"-174.3\">(None, 128)</text>\n",
       "</g>\n",
       "<!-- 140634080166928&#45;&gt;140634080120400 -->\n",
       "<g class=\"edge\" id=\"edge1\"><title>140634080166928-&gt;140634080120400</title>\n",
       "<path d=\"M165.436,-249.366C181.897,-239.634 201.395,-228.106 218.754,-217.842\" fill=\"none\" stroke=\"black\"/>\n",
       "<polygon fill=\"black\" points=\"220.783,-220.709 227.609,-212.607 217.22,-214.683 220.783,-220.709\" stroke=\"black\"/>\n",
       "</g>\n",
       "<!-- 140634080167120 -->\n",
       "<g class=\"node\" id=\"node2\"><title>140634080167120</title>\n",
       "<polygon fill=\"none\" points=\"274,-249.5 274,-295.5 530,-295.5 530,-249.5 274,-249.5\" stroke=\"black\"/>\n",
       "<text font-family=\"Times,serif\" font-size=\"14.00\" text-anchor=\"middle\" x=\"336.5\" y=\"-268.8\">input_4: InputLayer</text>\n",
       "<polyline fill=\"none\" points=\"399,-249.5 399,-295.5 \" stroke=\"black\"/>\n",
       "<text font-family=\"Times,serif\" font-size=\"14.00\" text-anchor=\"middle\" x=\"426.5\" y=\"-280.3\">input:</text>\n",
       "<polyline fill=\"none\" points=\"399,-272.5 454,-272.5 \" stroke=\"black\"/>\n",
       "<text font-family=\"Times,serif\" font-size=\"14.00\" text-anchor=\"middle\" x=\"426.5\" y=\"-257.3\">output:</text>\n",
       "<polyline fill=\"none\" points=\"454,-249.5 454,-295.5 \" stroke=\"black\"/>\n",
       "<text font-family=\"Times,serif\" font-size=\"14.00\" text-anchor=\"middle\" x=\"492\" y=\"-280.3\">(None, 50)</text>\n",
       "<polyline fill=\"none\" points=\"454,-272.5 530,-272.5 \" stroke=\"black\"/>\n",
       "<text font-family=\"Times,serif\" font-size=\"14.00\" text-anchor=\"middle\" x=\"492\" y=\"-257.3\">(None, 50)</text>\n",
       "</g>\n",
       "<!-- 140634080167120&#45;&gt;140634080120400 -->\n",
       "<g class=\"edge\" id=\"edge2\"><title>140634080167120-&gt;140634080120400</title>\n",
       "<path d=\"M364.564,-249.366C348.103,-239.634 328.605,-228.106 311.246,-217.842\" fill=\"none\" stroke=\"black\"/>\n",
       "<polygon fill=\"black\" points=\"312.78,-214.683 302.391,-212.607 309.217,-220.709 312.78,-214.683\" stroke=\"black\"/>\n",
       "</g>\n",
       "<!-- 140633008145616 -->\n",
       "<g class=\"node\" id=\"node4\"><title>140633008145616</title>\n",
       "<polygon fill=\"none\" points=\"93.5,-83.5 93.5,-129.5 436.5,-129.5 436.5,-83.5 93.5,-83.5\" stroke=\"black\"/>\n",
       "<text font-family=\"Times,serif\" font-size=\"14.00\" text-anchor=\"middle\" x=\"155\" y=\"-102.8\">lambda_2: Lambda</text>\n",
       "<polyline fill=\"none\" points=\"216.5,-83.5 216.5,-129.5 \" stroke=\"black\"/>\n",
       "<text font-family=\"Times,serif\" font-size=\"14.00\" text-anchor=\"middle\" x=\"244\" y=\"-114.3\">input:</text>\n",
       "<polyline fill=\"none\" points=\"216.5,-106.5 271.5,-106.5 \" stroke=\"black\"/>\n",
       "<text font-family=\"Times,serif\" font-size=\"14.00\" text-anchor=\"middle\" x=\"244\" y=\"-91.3\">output:</text>\n",
       "<polyline fill=\"none\" points=\"271.5,-83.5 271.5,-129.5 \" stroke=\"black\"/>\n",
       "<text font-family=\"Times,serif\" font-size=\"14.00\" text-anchor=\"middle\" x=\"354\" y=\"-114.3\">[(None, 128), (None, 128)]</text>\n",
       "<polyline fill=\"none\" points=\"271.5,-106.5 436.5,-106.5 \" stroke=\"black\"/>\n",
       "<text font-family=\"Times,serif\" font-size=\"14.00\" text-anchor=\"middle\" x=\"354\" y=\"-91.3\">(None, 128)</text>\n",
       "</g>\n",
       "<!-- 140634080120400&#45;&gt;140633008145616 -->\n",
       "<g class=\"edge\" id=\"edge3\"><title>140634080120400-&gt;140633008145616</title>\n",
       "<path d=\"M265,-166.366C265,-158.152 265,-148.658 265,-139.725\" fill=\"none\" stroke=\"black\"/>\n",
       "<polygon fill=\"black\" points=\"268.5,-139.607 265,-129.607 261.5,-139.607 268.5,-139.607\" stroke=\"black\"/>\n",
       "</g>\n",
       "<!-- 140634080167440 -->\n",
       "<g class=\"node\" id=\"node5\"><title>140634080167440</title>\n",
       "<polygon fill=\"none\" points=\"139,-0.5 139,-46.5 391,-46.5 391,-0.5 139,-0.5\" stroke=\"black\"/>\n",
       "<text font-family=\"Times,serif\" font-size=\"14.00\" text-anchor=\"middle\" x=\"196\" y=\"-19.8\">last_dense: Dense</text>\n",
       "<polyline fill=\"none\" points=\"253,-0.5 253,-46.5 \" stroke=\"black\"/>\n",
       "<text font-family=\"Times,serif\" font-size=\"14.00\" text-anchor=\"middle\" x=\"280.5\" y=\"-31.3\">input:</text>\n",
       "<polyline fill=\"none\" points=\"253,-23.5 308,-23.5 \" stroke=\"black\"/>\n",
       "<text font-family=\"Times,serif\" font-size=\"14.00\" text-anchor=\"middle\" x=\"280.5\" y=\"-8.3\">output:</text>\n",
       "<polyline fill=\"none\" points=\"308,-0.5 308,-46.5 \" stroke=\"black\"/>\n",
       "<text font-family=\"Times,serif\" font-size=\"14.00\" text-anchor=\"middle\" x=\"349.5\" y=\"-31.3\">(None, 128)</text>\n",
       "<polyline fill=\"none\" points=\"308,-23.5 391,-23.5 \" stroke=\"black\"/>\n",
       "<text font-family=\"Times,serif\" font-size=\"14.00\" text-anchor=\"middle\" x=\"349.5\" y=\"-8.3\">(None, 1)</text>\n",
       "</g>\n",
       "<!-- 140633008145616&#45;&gt;140634080167440 -->\n",
       "<g class=\"edge\" id=\"edge5\"><title>140633008145616-&gt;140634080167440</title>\n",
       "<path d=\"M265,-83.3664C265,-75.1516 265,-65.6579 265,-56.7252\" fill=\"none\" stroke=\"black\"/>\n",
       "<polygon fill=\"black\" points=\"268.5,-56.6068 265,-46.6068 261.5,-56.6069 268.5,-56.6068\" stroke=\"black\"/>\n",
       "</g>\n",
       "</g>\n",
       "</svg>"
      ],
      "text/plain": [
       "<IPython.core.display.SVG object>"
      ]
     },
     "execution_count": 52,
     "metadata": {},
     "output_type": "execute_result"
    }
   ],
   "source": [
    "from IPython.display import SVG\n",
    "from keras.utils.vis_utils import model_to_dot\n",
    "SVG(model_to_dot(main_model, show_shapes=True).create(prog='dot', format='svg'))"
   ]
  },
  {
   "cell_type": "code",
   "execution_count": 57,
   "metadata": {
    "collapsed": true
   },
   "outputs": [],
   "source": [
    "main_model.load_weights('weights-improvement-02-0.74.hdf5')"
   ]
  },
  {
   "cell_type": "code",
   "execution_count": 58,
   "metadata": {
    "collapsed": false
   },
   "outputs": [
    {
     "name": "stdout",
     "output_type": "stream",
     "text": [
      "239415/239415 [==============================] - 641s   \n"
     ]
    }
   ],
   "source": [
    "score_on_train = main_model.evaluate([X_train[0],X_train[1]],y_train, batch_size=128)"
   ]
  },
  {
   "cell_type": "code",
   "execution_count": 59,
   "metadata": {
    "collapsed": false
   },
   "outputs": [
    {
     "data": {
      "text/plain": [
       "[0.54727909250610729, 0.75305223147791389]"
      ]
     },
     "execution_count": 59,
     "metadata": {},
     "output_type": "execute_result"
    }
   ],
   "source": []
  },
  {
   "cell_type": "code",
   "execution_count": 75,
   "metadata": {
    "collapsed": false
   },
   "outputs": [
    {
     "name": "stdout",
     "output_type": "stream",
     "text": [
      "29927/29927 [==============================] - 84s    \n"
     ]
    }
   ],
   "source": [
    "score_on_test = main_model.evaluate([X_test[0],X_test[1]],y_test, batch_size=128)"
   ]
  },
  {
   "cell_type": "code",
   "execution_count": 76,
   "metadata": {
    "collapsed": false
   },
   "outputs": [
    {
     "data": {
      "text/plain": [
       "[0.5595478467690812, 0.73572359399328369]"
      ]
     },
     "execution_count": 76,
     "metadata": {},
     "output_type": "execute_result"
    }
   ],
   "source": [
    "score_on_test\n"
   ]
  },
  {
   "cell_type": "code",
   "execution_count": 77,
   "metadata": {
    "collapsed": false
   },
   "outputs": [
    {
     "name": "stdout",
     "output_type": "stream",
     "text": [
      "29927/29927 [==============================] - 96s    \n"
     ]
    }
   ],
   "source": [
    "predictions = main_model.predict([X_test[0], X_test[1]] , batch_size=128, verbose = 1)"
   ]
  },
  {
   "cell_type": "code",
   "execution_count": 78,
   "metadata": {
    "collapsed": false
   },
   "outputs": [
    {
     "data": {
      "text/plain": [
       "29927"
      ]
     },
     "execution_count": 78,
     "metadata": {},
     "output_type": "execute_result"
    }
   ],
   "source": [
    "len(predictions)"
   ]
  },
  {
   "cell_type": "code",
   "execution_count": 92,
   "metadata": {
    "collapsed": false
   },
   "outputs": [],
   "source": [
    "low = {}\n",
    "high = {}\n",
    "mid = {}\n",
    "\n",
    "i = 0\n",
    "for i in range(len(predictions)):\n",
    "    if abs(1.0-predictions[i])<=0.2:\n",
    "        high[i] = predictions[i]\n",
    "    if abs(predictions[i])<=0.2:\n",
    "        low[i] = predictions[i]\n",
    "    if abs(0.5-predictions[i])<=0.1:\n",
    "        mid[i] = predictions[i]\n",
    "        \n"
   ]
  },
  {
   "cell_type": "code",
   "execution_count": 99,
   "metadata": {
    "collapsed": false
   },
   "outputs": [],
   "source": [
    "mid = [0,1,6]"
   ]
  },
  {
   "cell_type": "code",
   "execution_count": 100,
   "metadata": {
    "collapsed": false
   },
   "outputs": [],
   "source": [
    "high = [305, 1966, 3367]"
   ]
  },
  {
   "cell_type": "code",
   "execution_count": 101,
   "metadata": {
    "collapsed": false
   },
   "outputs": [],
   "source": [
    "low = [16387, 4, 25942]"
   ]
  },
  {
   "cell_type": "code",
   "execution_count": 103,
   "metadata": {
    "collapsed": false
   },
   "outputs": [
    {
     "data": {
      "text/plain": [
       "50"
      ]
     },
     "execution_count": 103,
     "metadata": {},
     "output_type": "execute_result"
    }
   ],
   "source": [
    "X_test[0][0]"
   ]
  },
  {
   "cell_type": "code",
   "execution_count": 104,
   "metadata": {
    "collapsed": true
   },
   "outputs": [],
   "source": [
    "import cPickle\n",
    "f = open(\"reverse_word\", \"r\")\n",
    "reverse = pickle.load(f)\n",
    "f.close()"
   ]
  },
  {
   "cell_type": "code",
   "execution_count": 106,
   "metadata": {
    "collapsed": false
   },
   "outputs": [],
   "source": [
    "data = pd.read_csv('./cleandata.csv')"
   ]
  },
  {
   "cell_type": "code",
   "execution_count": 111,
   "metadata": {
    "collapsed": false
   },
   "outputs": [
    {
     "name": "stdout",
     "output_type": "stream",
     "text": [
      "If I don't add phone number and recovery mail address to my gmail ID how can I reset my password?\n",
      "How do I reset my Gmail password when I don't remember my recovery information? 13 Answers\n",
      "1\n"
     ]
    }
   ],
   "source": [
    "print data['question1'][269342]\n",
    "print data['question2'][269342]\n",
    "print y_test[0]"
   ]
  },
  {
   "cell_type": "code",
   "execution_count": 112,
   "metadata": {
    "collapsed": false
   },
   "outputs": [
    {
     "name": "stdout",
     "output_type": "stream",
     "text": [
      "How do I correct grammatical errors in questions asked on Quora?\n",
      "How does Quora correct grammatical errors in questions?\n",
      "0\n"
     ]
    }
   ],
   "source": [
    "print data['question1'][269343]\n",
    "print data['question2'][269343]\n",
    "print y_test[1]"
   ]
  },
  {
   "cell_type": "code",
   "execution_count": 113,
   "metadata": {
    "collapsed": false
   },
   "outputs": [
    {
     "name": "stdout",
     "output_type": "stream",
     "text": [
      "Is milk actually good or bad for your health?\n",
      "Is drinking milk good for health?\n",
      "1\n"
     ]
    }
   ],
   "source": [
    "print data['question1'][269348]\n",
    "print data['question2'][269348]\n",
    "print y_test[0]"
   ]
  },
  {
   "cell_type": "code",
   "execution_count": null,
   "metadata": {
    "collapsed": true
   },
   "outputs": [],
   "source": []
  }
 ],
 "metadata": {
  "anaconda-cloud": {},
  "kernelspec": {
   "display_name": "Python [default]",
   "language": "python",
   "name": "python2"
  },
  "language_info": {
   "codemirror_mode": {
    "name": "ipython",
    "version": 2
   },
   "file_extension": ".py",
   "mimetype": "text/x-python",
   "name": "python",
   "nbconvert_exporter": "python",
   "pygments_lexer": "ipython2",
   "version": "2.7.12"
  }
 },
 "nbformat": 4,
 "nbformat_minor": 1
}
